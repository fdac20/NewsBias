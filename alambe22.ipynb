{
 "cells": [
  {
   "cell_type": "code",
   "execution_count": null,
   "metadata": {},
   "outputs": [],
   "source": []
  },
  {
   "cell_type": "code",
   "execution_count": 71,
   "metadata": {},
   "outputs": [],
   "source": [
    "def wordLength(wordSet):\n",
    "    sum = 0\n",
    "    for word in wordSet:\n",
    "        sum = sum + len(word)\n",
    "    \n",
    "    return sum/len(wordSet)\n",
    "\n",
    "def buzzWords(wordSet):\n",
    "    \n",
    "    return 0\n",
    "\n",
    "\n",
    "def parseEmoWords(emoWords):\n",
    "    with open(\"./datasets/emotional_words.txt\") as fin:\n",
    "        for line in fin:\n",
    "            emoWords.append(line.strip())\n",
    "            \n",
    "def emotionalWords(wordSet):\n",
    "    emoWords = []\n",
    "    count =0\n",
    "    parseEmoWords(emoWords)\n",
    "    \n",
    "    for word in wordSet:\n",
    "        if(word in emoWords):\n",
    "            count = count +1\n",
    "    return count\n",
    "\n",
    "def parsePosWords(posWords):\n",
    "    with open(\"./datasets/positive-words.txt\") as fin:\n",
    "        for line in fin:\n",
    "            posWords.append(line.strip())\n",
    "\n",
    "\n",
    "def positiveWords(wordSet):\n",
    "    posWords = []\n",
    "    count = 0\n",
    "    parsePosWords(posWords)\n",
    "    for word in wordSet:\n",
    "        if(word in posWords):\n",
    "            count = count + 1\n",
    "    return count\n",
    "\n",
    "def parseNegWords(negWords):\n",
    "    with open(\"./datasets/negative-words.txt\") as fin:\n",
    "        for line in fin:\n",
    "            negWords.append(line.strip())\n",
    "\n",
    "\n",
    "def negativeWords(wordSet):\n",
    "    negWords = []\n",
    "    count = 0\n",
    "    parseNegWords(negWords)\n",
    "    for word in wordSet:\n",
    "        if(word in negWords):\n",
    "            count = count + 1\n",
    "    return count"
   ]
  },
  {
   "cell_type": "code",
   "execution_count": 72,
   "metadata": {},
   "outputs": [
    {
     "name": "stdout",
     "output_type": "stream",
     "text": [
      "4\n",
      "4.7272727272727275\n",
      "1\n",
      "2\n"
     ]
    }
   ],
   "source": [
    "wordSet = set([\"army\", \"man\", \"sad\", \"angry\", \"woman\", \"president\", \"mom\", \"dad\", \"shoe\", \"sock\", \"ambitious\"])\n",
    "\n",
    "print(emotionalWords(wordSet))\n",
    "print(wordLength(wordSet))\n",
    "print(positiveWords(wordSet))\n",
    "print(negativeWords(wordSet))"
   ]
  },
  {
   "cell_type": "code",
   "execution_count": null,
   "metadata": {},
   "outputs": [],
   "source": []
  }
 ],
 "metadata": {
  "kernelspec": {
   "display_name": "Python 3",
   "language": "python",
   "name": "python3"
  },
  "language_info": {
   "codemirror_mode": {
    "name": "ipython",
    "version": 3
   },
   "file_extension": ".py",
   "mimetype": "text/x-python",
   "name": "python",
   "nbconvert_exporter": "python",
   "pygments_lexer": "ipython3",
   "version": "3.8.2"
  }
 },
 "nbformat": 4,
 "nbformat_minor": 4
}
