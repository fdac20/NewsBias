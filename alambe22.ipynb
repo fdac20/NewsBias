{
 "cells": [
  {
   "cell_type": "code",
   "execution_count": null,
   "metadata": {},
   "outputs": [],
   "source": []
  },
  {
   "cell_type": "code",
   "execution_count": 37,
   "metadata": {},
   "outputs": [],
   "source": [
    "def worldLength(wordSet):\n",
    "    sum = 0\n",
    "    for word in wordList:\n",
    "        sum = sum + len(word)\n",
    "    \n",
    "    return sum\n",
    "\n",
    "def buzzWords(wordSet):\n",
    "    \n",
    "    #trouble finding a dataset, may need to create our own set of buzzwords\n",
    "    return 0\n",
    "\n",
    "\n",
    "def parseEmoWords(disgust, suprise, anger, sad, happy, fear):\n",
    "    with open(\"./datasets/Andbrain_DataSet.csv\") as fin:\n",
    "        print(fin.readline())\n",
    "        for line in fin:\n",
    "            max = 0\n",
    "            maxInd = 0\n",
    "            lineList = line.split(',')\n",
    "            for i in range(1, 7):\n",
    "                if float(lineList[i]) > max:\n",
    "                    maxInd = i\n",
    "                    max = float(lineList[i])\n",
    "            if(maxInd == 1):\n",
    "                disgust.append(lineList[0].strip())\n",
    "            elif(maxInd == 2):\n",
    "                suprise.append(lineList[0].strip())\n",
    "            elif(maxInd == 3):\n",
    "                anger.append(lineList[0].strip())\n",
    "            elif(maxInd == 4):\n",
    "                sad.append(lineList[0].strip())\n",
    "            elif(maxInd == 5):\n",
    "                happy.append(lineList[0].strip())\n",
    "            elif(maxInd == 6):\n",
    "                fear.append(lineList[0].strip())\n",
    "            \n",
    "           \n",
    "        \n",
    "        \n",
    "def emotionalWords(wordSet):\n",
    "    disgust =[]\n",
    "    suprise =[]\n",
    "    anger   =[]\n",
    "    sad     =[]\n",
    "    happy   =[]\n",
    "    fear    =[]\n",
    "    \n",
    "    counts = {\"disgust\": 0, \"suprise\": 0, \"anger\": 0, \"sad\":0, \"happy\":0, \"fear\":0}\n",
    "    parseEmoWords(disgust, suprise, anger, sad, happy, fear)\n",
    "    \n",
    "    print(sad)\n",
    "    for word in wordSet:\n",
    "        if(word in disgust):\n",
    "            counts[\"disgust\"] = counts[\"disgust\"] +1\n",
    "        elif(word in suprise):\n",
    "            counts[\"suprise\"] = counts[\"suprise\"] + 1\n",
    "        elif(word in anger):\n",
    "            counts[\"anger\"] = counts[\"anger\"] + 1\n",
    "        elif(word in sad):\n",
    "            counts[\"sad\"] = counts[\"sad\"] +1\n",
    "        elif(word in happy):\n",
    "            counts[\"happy\"] = counts[\"happy\"] + 1\n",
    "        elif(word in fear):\n",
    "            counts[\"fear\"] = counts[\"fear\"] + 1\n",
    "    print(counts)\n",
    "    return 0\n",
    "\n",
    "\n",
    "def positiveWords(wordSet):\n",
    "    return 0"
   ]
  },
  {
   "cell_type": "code",
   "execution_count": 38,
   "metadata": {},
   "outputs": [
    {
     "name": "stdout",
     "output_type": "stream",
     "text": [
      "word,disgust,surprise,neutral,anger,sad,happy,fear\n",
      "\n",
      "['abuse', 'accept', 'agreed', 'ahead', 'anal', 'answer', 'apartments', 'attention', 'bad', 'bag', 'bags', 'basketball', 'bath', 'became', 'behavior', 'break', 'breaking', 'broken', 'brother', 'cast', 'certainly', 'chairman', 'checkout', 'clean', 'clock', 'closed', 'clubs', 'cold', 'conduct', 'contacts', 'contained', 'containing', 'copies', 'counter', 'criminal', 'critical', 'cum', 'customers', 'dave', 'davis', 'dealer', 'define', 'delete', 'designer', 'desk', 'die', 'dinner', 'directors', 'discuss', 'discussions', 'disease', 'domestic', 'drivers', 'driving', 'earlier', 'easier', 'electrical', 'em', 'ends', 'eric', 'es', 'especially', 'estimated', 'europe', 'evening', 'experts', 'fail', 'failed', 'false', 'fans', 'festival', 'fiction', 'fight', 'fill', 'firm', 'flights', 'follows', 'forced', 'forgot', 'friends', 'fuel', 'gb', 'gear', 'gene', 'gifts', 'golf', 'goods', 'healthcare', 'heard', 'heavy', 'hide', 'highest', 'highly', 'houses', 'immediately', 'influence', 'institutions', 'intended', 'iowa', 'ipod', 'judge', 'junior', 'kept', 'kids', 'knew', 'korea', 'lack', 'lady', 'late', 'leader', 'leaders', 'leave', 'lost', 'luxury', 'matters', 'mg', 'mine', 'mt', 'nearby', 'negative', 'nine', 'nursing', 'ones', 'opinions', 'option', 'owner', 'parent', 'parking', 'participation', 'partners', 'personnel', 'pet', 'physics', 'pic', 'placed', 'played', 'political', 'postal', 'premium', 'pressure', 'principal', 'priority', 'promote', 'proper', 'protected', 'providers', 'quantity', 'quarter', 'queen', 'reasonable', 'relationships', 'relative', 'removed', 'repair', 'represent', 'requests', 'reserve', 'roll', 'route', 'sa', 'saying', 'seat', 'separate', 'serving', 'shared', 'shares', 'ski', 'sold', 'spam', 'speakers', 'specs', 'spend', 'sponsor', 'spring', 'statements', 'stats', 'stress', 'suggest', 'suggestions', 'sweet', 'talking', 'taxes', 'taylor', 'tea', 'teams', 'tennis', 'ticket', 'tickets', 'tip', 'toronto', 'towards', 'train', 'translation', 'trees', 'tried', 'turned', 'understand', 'utility', 'void', 'votes', 'wanted', 'wire', 'wish', 'wrong']\n",
      "{'disgust': 1, 'suprise': 0, 'anger': 0, 'sad': 0, 'happy': 0, 'fear': 0}\n"
     ]
    },
    {
     "data": {
      "text/plain": [
       "0"
      ]
     },
     "execution_count": 38,
     "metadata": {},
     "output_type": "execute_result"
    }
   ],
   "source": [
    "wordSet = set([\"army\", \"man\", \"sad\", \"angry\"])\n",
    "\n",
    "emotionalWords(wordSet)"
   ]
  },
  {
   "cell_type": "code",
   "execution_count": null,
   "metadata": {},
   "outputs": [],
   "source": []
  }
 ],
 "metadata": {
  "kernelspec": {
   "display_name": "Python 3",
   "language": "python",
   "name": "python3"
  },
  "language_info": {
   "codemirror_mode": {
    "name": "ipython",
    "version": 3
   },
   "file_extension": ".py",
   "mimetype": "text/x-python",
   "name": "python",
   "nbconvert_exporter": "python",
   "pygments_lexer": "ipython3",
   "version": "3.8.2"
  }
 },
 "nbformat": 4,
 "nbformat_minor": 4
}
