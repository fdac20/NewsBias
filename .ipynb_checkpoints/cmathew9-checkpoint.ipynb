{
 "cells": [
  {
   "cell_type": "code",
   "execution_count": 58,
   "metadata": {},
   "outputs": [
    {
     "name": "stdout",
     "output_type": "stream",
     "text": [
      "['Economy', 'National', 'Security', 'Budget', 'Immigration', 'Coronavirus', 'gov', 'Share', 'this', 'page', 'on', 'Facebook', 'Share', 'this', 'page', 'on', 'Twitter', 'Copy', 'URL', 'to', 'your', 'clipboard', 'Live', 'Jobs', 'Get', 'Involved', 'Copyright', 'Policy', 'Privacy', 'Policy', 'Twitter', 'Facebook', 'Instagram', 'Contact', 'News', 'Remarks', 'Briefings', 'Statements', 'Presidential', 'Actions', 'Articles', 'All', 'News', 'Remarks', 'Briefings', 'Statements', 'Presidential', 'Actions', 'Articles', 'All', 'News', 'Issues', 'Education', 'National', 'Security', 'Defense', 'Budget', 'Spending', 'Immigration', 'Healthcare', 'All', 'Issues', 'Education', 'National', 'Security', 'Defense', 'Budget', 'Spending', 'Immigration', 'Healthcare', 'All', 'Issues', 'The', 'Administration', 'President', 'Donald', 'J', 'Trump', 'Vice', 'President', 'Michael', 'R', 'Pence', 'First', 'Lady', 'Melania', 'Trump', 'Second', 'Lady', 'Karen', 'Pence', 'The', 'Cabinet', 'Disclosures', 'President', 'Donald', 'J', 'Trump', 'Vice', 'President', 'Michael', 'R', 'Pence', 'First', 'Lady', 'Melania', 'Trump', 'Second', 'Lady', 'Karen', 'Pence', 'The', 'Cabinet', 'Disclosures', 'Executive', 'Offices', 'Council', 'of', 'Economic', 'Advisers', 'Council', 'on', 'Environmental', 'Quality', 'National', 'Security', 'Council', 'Office', 'of', 'Management', 'and', 'Budget', 'Office', 'of', 'National', 'Drug', 'Control', 'Policy', 'Office', 'of', 'Science', 'and', 'Technology', 'Policy', 'Council', 'of', 'Economic', 'Advisers', 'Council', 'on', 'Environmental', 'Quality', 'National', 'Security', 'Council', 'Office', 'of', 'Management', 'and', 'Budget', 'Office', 'of', 'National', 'Drug', 'Control', 'Policy', 'Office', 'of', 'Science', 'and', 'Technology', 'Policy', 'About', 'The', 'White', 'House', 'White', 'House', 'Tours', 'Past', 'Presidents', 'Past', 'First', 'Ladies', 'The', 'Grounds', 'Our', 'Government', 'White', 'House', 'Tours', 'Past', 'Presidents', 'Past', 'First', 'Ladies', 'The', 'Grounds', 'Our', 'Government', 'Get', 'Involved', 'Write', 'or', 'Call', 'the', 'White', 'House', 'White', 'House', 'Internship', 'Program', 'White', 'House', 'Fellows', 'Write', 'or', 'Call', 'the', 'White', 'House', 'White', 'House', 'Internship', 'Program', 'White', 'House', 'Fellows', 'Contact', 'Live']\n"
     ]
    }
   ],
   "source": [
    "from bs4 import BeautifulSoup\n",
    "import requests, re\n",
    "\n",
    "# Get list of all words from paragraph tags\n",
    "def get_paragraphs(soup):\n",
    "    # Contains all <p> elements\n",
    "    paragraph_elements = soup.find_all(\"p\")\n",
    "    # Contains list of all words from all <p> elements\n",
    "    paragraph_words = []\n",
    "    for paragraph_element in paragraph_elements:\n",
    "        paragraph = paragraph_element.getText()\n",
    "        paragraph = string_cleaner(paragraph)\n",
    "        # Filter out empty strings created by cleaning\n",
    "        words = list(filter(None, paragraph.split(\" \")))\n",
    "        paragraph_words += words\n",
    "    return paragraph_words\n",
    "\n",
    "# Remove non-alpha-numeric characters from a string\n",
    "# ***Figure out apostrophe for conjunction words\n",
    "def string_cleaner(paragraph):\n",
    "    # Replace non-alpha-numeric characters with a space\n",
    "    paragraph = re.sub('[^A-Za-z0-9]+', ' ', paragraph)\n",
    "    return paragraph\n",
    "# ***This is currently broken***\n",
    "def get_lists(soup):\n",
    "    list_elements = soup.find_all(\"li\")\n",
    "    list_words = []\n",
    "    for list_element in list_elements:\n",
    "        list_text = list_element.getText()\n",
    "        list_text = string_cleaner(list_text)\n",
    "        words = list(filter(None, list_text.split(\" \")))\n",
    "        list_words += words\n",
    "    return list_words\n",
    "\n",
    "# Returns a list of all words in an article\n",
    "def get_article(url):\n",
    "    r = requests.get(url)\n",
    "    html = r.text\n",
    "    soup = BeautifulSoup(html, 'html.parser')\n",
    "    # Contains list of all words from <p> elements\n",
    "    paragraphs = get_paragraphs(soup)\n",
    "    # Contains list of all words from <li> elements\n",
    "    lists = get_lists(soup)\n",
    "    article = paragraphs + lists\n",
    "    print(lists)\n",
    "    return article\n",
    "\n",
    "ps = get_article('https://www.whitehouse.gov/1600daily/')\n"
   ]
  },
  {
   "cell_type": "code",
   "execution_count": null,
   "metadata": {},
   "outputs": [],
   "source": []
  }
 ],
 "metadata": {
  "kernelspec": {
   "display_name": "Python 3",
   "language": "python",
   "name": "python3"
  },
  "language_info": {
   "codemirror_mode": {
    "name": "ipython",
    "version": 3
   },
   "file_extension": ".py",
   "mimetype": "text/x-python",
   "name": "python",
   "nbconvert_exporter": "python",
   "pygments_lexer": "ipython3",
   "version": "3.8.2"
  }
 },
 "nbformat": 4,
 "nbformat_minor": 4
}
