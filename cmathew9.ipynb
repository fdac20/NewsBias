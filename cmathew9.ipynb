{
 "cells": [
  {
   "cell_type": "code",
   "execution_count": 111,
   "metadata": {},
   "outputs": [
    {
     "name": "stdout",
     "output_type": "stream",
     "text": [
      "im sitting in my kitchen contemplating a second cup of coffee for the day since i didnt sleep well last night or the night before and in reality i feel like sleep has been elusive a lot recently as im sure it has been for many the passing of ruth bader ginsberg added an entirely new wave of what feels like an endless despair rbgs health had been declining for some time and more than ever we all knew the importance of voting for a democrat this election year so that rbg could retire ive been pondering that a lot over the weekend reading the facebook posts the images being shared on instagram and the messages i received was a stark reminder of how scared so many of us are the supreme court is referred to as the highest power in our country they have final decisions over state and federal laws and regulations and can even strike down presidential directives the hope is that each supreme court justice will not be too personally influenced by one party or another while of course personal bias is to be expected one also hopes that each nominee will respect at least some semblance of impartiality when it comes to making decisions since its inception the supreme court has made many landmark decisions that have shaped our country brown v board of education desegregated schools in miranda v arizona created the well known you have the right to remain silent guidelines for police and of course the case that defined a generation roe v wade legalized abortion and determined that a woman had the right to choose what to do with her body and ever since that day america hasnt agreed on whether or not this was the right decision while ginsburg was not on the supreme court when this decision was made her staunch defense of womens rights was well known and she was looked up to as someone who would protect those rights as long as she could because of her women can take out a credit card in their own names without a male signatory they cant be fired for being pregnant they can earn admittance into military academies and they are legally protected from any form of violence to name a few her staunch dissent of ledbetter v goodyear tire rubber company and continued push for women to have equal pay caused obama to sign the lilly ledbetter fair pay act ruth bader ginsburg became a u s supreme court justice in august photo credit kort duce afp getty images these are things that many of us take for granted as we go about our daily lives but before ginsburgs legal career did not exist history showed us that she would rise up to every opportunity to speak up and speak out for others however as the oldest supreme court justice along with her failing health many progressives were concerned about what the future would hold if she retired or passed while trump was president the fear centered around one very specific womens rights issue roe v wade notably when conservative judge antonin scalia passed away in february of mitch mcconnell among other republicans said we should not replace a justice during an election year and refused to confirm obamas choice for his replacement now again we are faced with another justice having passed in an election year and suddenly these same gop members are all rushing to figure out how they can force through another trump nominee despite their protestations from years ago thus we are returned to our fear it comes as no surprise to anyone whos been following the rhetoric of the gop the utter hypocrisy of their language and behavior to them the supreme court isnt about making the best decisions for the nation as a whole but to continue to push the increasingly far right ideologies of the republican party and if they can repeal roe v wade for many if not all in the anti choice movement they see this as a win however they miss so much more when it comes to what it means to replace someone like ruth bader ginsberg champion of womens rights with someone like amy coney barrett tool of the patriarchy we are not looking at a docket of one question one decision end of story we are looking at the potential for one person to utterly shift the balance of the rights of everyday americans it starts with the dismantling of roe v wade and continues on to the future of dreamers lgbtq rights the rights of black and brown americans the fact is if roe v wade is repealed abortions will still happen this is the rhetoric that the right continues to ignore that pro life advocates dismiss in order to pursue what they feel will be their final and perfect goal before abortions were still happening and even if roe v wade is struck down they will continue to happen but then they will only be accessible for the rich and mostly white who hire private doctors or to women who make dangerous and scary choices because they have nowhere else to turn ill save you from the graphic nature of what women have done in the past but ask your mother and your grandmother they know and that is why women everywhere were afraid this weekend why my messages were filled with expletives why women sought comfort from friends on facebook on instagram and why many on twitter reminded us we still had to get up and fight more than ever but the truth is we should not be here we shouldnt be so worried about the safety of our bodies because of the passing of one woman the decisions we make for ourselves should not be so easily undermined by the death of a supreme court justice but the gop has convinced their followers that there is no tragedy worse than an abortion and against all other sins none is greater and only they your elected officials can protect the lives of the unborn what you miss in this however is that they want to restrict more than a womans right to choose an abortion they want to limit birth control they want to take away your right to protect yourself from choosing abortion or not they want to take away programs that provide health care for all or prevent them from even coming to a vote has shown us the gop does not even want to help provide basic needs to everyday americans during a pandemic mitch mcconnell would rather force through a conservative supreme court justice then spend time finding a way to ensure that every american home has the stability they need to feed their children during a pandemic the old saying about republicans only caring about children before theyre born and not after more than ever has shown us the true colors of the gop the issue of losing such a champion of human rights of womens rights like ruth bader ginsberg is an issue of reckoning with the choices of the american people and how we vote or in some cases our apathy in voting at all despite this let us all rally together let us not forget what the notorious rbg did for womens rights and how long she fought for equality for all we cannot stop fighting we wont stop fighting we wont forget ruth bader ginsburg carried the weight of a nation on her shoulders she is our hero and no matter what we will rise stronger together in her honor may her memory be a revolution lydia stolper is brand new to organizing but shes always been passionate about matters close to her heart that brought her to the act tv team to help better spread awareness and fact based news she gets her day started with a strong cup of coffee a few hours on twitter and tries not to get distracted by cats you can find her tweeting cat photos and news at thatgirllil act tv is a project of democrats com the oldest and largest independent online community of democratic party and progressive activists menu home services about us our team privacy policy act tv act tv screen shot at pm png screen shot at pm png ruth bader ginsburg became a u s supreme court justice in august photo credit kort duce nbsp nbsp afp getty images ruth bader ginsburg became a u s supreme court justice in august photo credit kort duce nbsp nbsp afp getty images\n"
     ]
    }
   ],
   "source": [
    "from bs4 import BeautifulSoup\n",
    "import requests, re\n",
    "\n",
    "# Return a list of all words in <img> alt text\n",
    "def get_alt_text(soup):\n",
    "    img_elements = soup.find_all(\"img\")\n",
    "    alt_text_words = []\n",
    "    for img_element in img_elements:\n",
    "        img_text = img_element['alt']\n",
    "        img_text = string_cleaner(img_text)\n",
    "        img_text = img_text.lower()\n",
    "        words = list(filter(None, img_text.split(\" \")))\n",
    "        alt_text_words += words\n",
    "    return alt_text_words\n",
    "\n",
    "# Clean up a string for splitting on space\n",
    "def string_cleaner(paragraph):\n",
    "    # Remove apostrophes from the word\n",
    "    paragraph = paragraph.replace(\"'\", \"\")\n",
    "    paragraph = paragraph.replace(\"’\", \"\")\n",
    "    # Replace non-alpha-numeric characters with a space\n",
    "    paragraph = re.sub('[^A-Za-z]+', ' ', paragraph)\n",
    "    return paragraph\n",
    "\n",
    "# Returns a list of all words in an article\n",
    "def get_article(url):\n",
    "    # Setup\n",
    "    r = requests.get(url)\n",
    "    html = r.text\n",
    "    soup = BeautifulSoup(html, 'html.parser')\n",
    "    \n",
    "    # Contains a list of all words from <p> and <li> elements\n",
    "    article_words = []\n",
    "    \n",
    "    # Contains all <p> and <li> elements\n",
    "    p_li_elements = soup.find_all([\"p\", \"li\"])\n",
    "    for p_li_element in p_li_elements:\n",
    "        p_li = p_li_element.getText()\n",
    "        p_li = string_cleaner(p_li)\n",
    "        # Convert the string to lowercase\n",
    "        p_li = p_li.lower()\n",
    "        # Filter out empty strings created by cleaning\n",
    "        words = list(filter(None, p_li.split(\" \")))\n",
    "        article_words += words\n",
    "    \n",
    "    alt_text = get_alt_text(soup)\n",
    "    article_words += alt_text\n",
    "    return \" \".join(article_words)\n",
    "\n",
    "ps = get_article('https://www.act.tv/latest-news1/ruth-bader-ginsburg')\n",
    "print(ps)"
   ]
  },
  {
   "cell_type": "code",
   "execution_count": 114,
   "metadata": {},
   "outputs": [],
   "source": [
    "# Generate List of Phrases that Imply Facts\n",
    "first = [\n",
    "    \"investigations\",\n",
    "    \"research\",\n",
    "    \"surveys\",\n",
    "    \"studies\",\n",
    "    \"evidence\",\n",
    "    \"data\",\n",
    "    \"trends\",\n",
    "    \"results\",\n",
    "    \"facts\",\n",
    "    \"figures\",\n",
    "    \"references\"\n",
    "]\n",
    "second = [\n",
    "    \"show\",\n",
    "    \"indicate\",\n",
    "    \"reflect\",\n",
    "    \"reveal\",\n",
    "    \"prove\",\n",
    "    \"demonstrate\",\n",
    "    \"suggest\",\n",
    "    \"say\",\n",
    "    \"claim\",\n",
    "    \"disclose\"\n",
    "]\n",
    "\n",
    "with open(\"fact_phrases.txt\", \"w\") as f:\n",
    "    phrase = \"\"\n",
    "    for i in range(len(first)):\n",
    "        for j in range(len(second)):\n",
    "            if first[i][-1] == \"s\":\n",
    "                f.write(first[i] + \" \" + second[j] + \"\\n\")\n",
    "            else:\n",
    "                f.write(first[i] + \" \" + second[j] + \"s\" + \"\\n\")\n",
    "            if second[j] == \"say\":\n",
    "                f.write(first[i] + \" \" + \"said\" + \"\\n\")\n",
    "            elif second[j][-1] == \"e\":\n",
    "                f.write(first[i] + \" \" + second[j] + \"d\" + \"\\n\")\n",
    "            else:\n",
    "                f.write(first[i] + \" \" + second[j] + \"ed\" + \"\\n\")"
   ]
  },
  {
   "cell_type": "code",
   "execution_count": null,
   "metadata": {},
   "outputs": [],
   "source": []
  }
 ],
 "metadata": {
  "kernelspec": {
   "display_name": "Python 3",
   "language": "python",
   "name": "python3"
  },
  "language_info": {
   "codemirror_mode": {
    "name": "ipython",
    "version": 3
   },
   "file_extension": ".py",
   "mimetype": "text/x-python",
   "name": "python",
   "nbconvert_exporter": "python",
   "pygments_lexer": "ipython3",
   "version": "3.8.2"
  }
 },
 "nbformat": 4,
 "nbformat_minor": 4
}
